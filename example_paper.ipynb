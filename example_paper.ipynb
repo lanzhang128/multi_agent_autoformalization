{
  "cells": [
    {
      "cell_type": "code",
      "execution_count": 1,
      "metadata": {
        "colab": {
          "base_uri": "https://localhost:8080/"
        },
        "id": "sBTRqGWbdKoY",
        "outputId": "399b524d-8265-46d8-d7b8-f758793fac31"
      },
      "outputs": [
        {
          "name": "stdout",
          "output_type": "stream",
          "text": [
            "Cloning into 'multi_agent_autoformalization'...\n",
            "remote: Enumerating objects: 118, done.\u001b[K\n",
            "remote: Counting objects: 100% (118/118), done.\u001b[K\n",
            "remote: Compressing objects: 100% (111/111), done.\u001b[K\n",
            "remote: Total 118 (delta 56), reused 6 (delta 1), pack-reused 0 (from 0)\u001b[K\n",
            "Receiving objects: 100% (118/118), 5.50 MiB | 4.63 MiB/s, done.\n",
            "Resolving deltas: 100% (56/56), done.\n",
            "/content/multi_agent_autoformalization\n"
          ]
        }
      ],
      "source": [
        "!git clone https://github.com/lanzhang128/multi_agent_autoformalization.git\n",
        "%cd multi_agent_autoformalization\n",
        "!mkdir test_results"
      ]
    },
    {
      "cell_type": "code",
      "execution_count": 2,
      "metadata": {
        "colab": {
          "base_uri": "https://localhost:8080/"
        },
        "id": "KRFOWJFHrzki",
        "outputId": "04afcebe-de80-422b-9e1d-ec1e9f77dde7"
      },
      "outputs": [
        {
          "name": "stdout",
          "output_type": "stream",
          "text": [
            "Collecting rank_bm25\n",
            "  Downloading rank_bm25-0.2.2-py3-none-any.whl.metadata (3.2 kB)\n",
            "Requirement already satisfied: numpy in /usr/local/lib/python3.11/dist-packages (from rank_bm25) (2.0.2)\n",
            "Downloading rank_bm25-0.2.2-py3-none-any.whl (8.6 kB)\n",
            "Installing collected packages: rank_bm25\n",
            "Successfully installed rank_bm25-0.2.2\n"
          ]
        }
      ],
      "source": [
        "!pip install rank_bm25"
      ]
    },
    {
      "cell_type": "code",
      "execution_count": null,
      "metadata": {
        "colab": {
          "base_uri": "https://localhost:8080/"
        },
        "id": "-7yrh5N2bcM2",
        "outputId": "d0b75f4d-07ec-4556-8061-60b4bdb9836b"
      },
      "outputs": [
        {
          "name": "stdout",
          "output_type": "stream",
          "text": [
            "Mounted at /content/drive\n"
          ]
        }
      ],
      "source": [
        "from google.colab import drive\n",
        "drive.mount('/content/drive')"
      ]
    },
    {
      "cell_type": "code",
      "execution_count": 3,
      "metadata": {
        "colab": {
          "base_uri": "https://localhost:8080/"
        },
        "id": "xmqkaeT0eS64",
        "outputId": "ea55bdf3-0a78-4641-93e7-e9aeae96fe2a"
      },
      "outputs": [
        {
          "name": "stdout",
          "output_type": "stream",
          "text": [
            "Extraction finished.\n"
          ]
        }
      ],
      "source": [
        "!tar -xzf /content/drive/MyDrive/Isabelle2024_linux.tar.gz -C /content/\n",
        "print('Extraction finished.')"
      ]
    },
    {
      "cell_type": "code",
      "execution_count": 4,
      "metadata": {
        "id": "0BZlfvzobyV6"
      },
      "outputs": [],
      "source": [
        "import os\n",
        "os.environ['ISABELLE_DIRPATH'] = os.path.abspath('/content/Isabelle2024')\n",
        "\n",
        "import nest_asyncio\n",
        "nest_asyncio.apply()"
      ]
    },
    {
      "cell_type": "code",
      "execution_count": null,
      "metadata": {
        "id": "x1lxJkGqd0QP"
      },
      "outputs": [],
      "source": [
        "from llm import OpenAILLM\n",
        "\n",
        "gpt_4o = OpenAILLM(\n",
        "    api_key='api_key',\n",
        "    model='gpt-4o')"
      ]
    },
    {
      "cell_type": "code",
      "execution_count": 6,
      "metadata": {
        "id": "iSjWbTwHhkZs"
      },
      "outputs": [],
      "source": [
        "from agent import AutoformalizationAgent\n",
        "\n",
        "formal_language = 'Isabelle/HOL'\n",
        "agent_auto = AutoformalizationAgent(\n",
        "    llm=gpt_4o,\n",
        "    formal_language=formal_language)"
      ]
    },
    {
      "cell_type": "code",
      "execution_count": 7,
      "metadata": {
        "id": "1KzMmLOTaipf"
      },
      "outputs": [],
      "source": [
        "informal = (\n",
        "    \"Definition of Softmax Function: Formally, the standard (unit) softmax function \"\n",
        "    \"\\\\(\\\\sigma\\\\colon \\\\mathbb{R}^K \\\\to (0, 1)^K\\\\), where \\\\(K \\\\ge 1\\\\), takes a vector \"\n",
        "    \"\\\\(\\\\mathbf{z} = (z_1, \\\\dotsc, z_K) \\\\in \\\\mathbb{R}^K\\\\) and computes each component of vector \"\n",
        "    \"\\\\(\\\\sigma(\\\\mathbf{z}) \\\\in (0, 1)^K\\\\) with \\\\(\\\\sigma(\\\\mathbf{z})_i = \\\\frac{e^{z_i}}{\\\\sum_{j=1}^K e^{z_j}}\\\\,.\\\\)\"\n",
        ")"
      ]
    },
    {
      "cell_type": "code",
      "execution_count": 8,
      "metadata": {
        "colab": {
          "base_uri": "https://localhost:8080/"
        },
        "id": "tv5Wa9crkXlL",
        "outputId": "2c21710e-25af-42b5-fe3b-a5e7975adb9d"
      },
      "outputs": [
        {
          "name": "stdout",
          "output_type": "stream",
          "text": [
            "definition softmax :: \"real list \\<Rightarrow> real list\" where\n",
            "  \"softmax z = \n",
            "    let exp_z = map exp z;\n",
            "        sum_exp_z = sum_list exp_z\n",
            "    in map (\\<lambda>zi. zi / sum_exp_z) exp_z\"\n",
            "\n"
          ]
        }
      ],
      "source": [
        "zero_formalization, _ = agent_auto(\n",
        "    informal_statement=informal)\n",
        "print(zero_formalization)"
      ]
    },
    {
      "cell_type": "code",
      "execution_count": 9,
      "metadata": {
        "colab": {
          "base_uri": "https://localhost:8080/"
        },
        "id": "W6Ei-KiRkoW7",
        "outputId": "3318a7be-49f7-4978-e35b-abeb67137d4d"
      },
      "outputs": [
        {
          "name": "stdout",
          "output_type": "stream",
          "text": [
            "logging file is at: test_results/isabelle.log\n",
            "Isabelle server started with info: server \"test\" = 127.0.0.1:42317 (password \"e2a0a32d-c83f-4284-9a1c-c4514b9f367d\")\n",
            " in 2.65s.\n",
            "Isabelle server session 8e698df7-c156-46d1-b0d6-ecefc9d6f610 started in 14.40s.\n"
          ]
        }
      ],
      "source": [
        "from agent import HardCritiqueAgent\n",
        "agent_hard = HardCritiqueAgent(\n",
        "    formal_language=formal_language,\n",
        "    file_dir=\"test_results\")"
      ]
    },
    {
      "cell_type": "code",
      "execution_count": 10,
      "metadata": {
        "colab": {
          "base_uri": "https://localhost:8080/"
        },
        "id": "pDulnEAckrQj",
        "outputId": "3050df09-ac7f-4005-ee99-53a229e65591"
      },
      "outputs": [
        {
          "name": "stdout",
          "output_type": "stream",
          "text": [
            "Isabelle server use_theory ended in 2.46s.\n",
            "False\n",
            "Identified error on line: 4\n",
            "Error message: Undefined type name: \"real\"\\<^here>\n",
            "Failed to parse type\n",
            "\n",
            "\n"
          ]
        }
      ],
      "source": [
        "correctness, error_details = agent_hard(\n",
        "    formalization=zero_formalization,\n",
        "    file_prefix=\"zero\")\n",
        "print(correctness)\n",
        "print(error_details)"
      ]
    },
    {
      "cell_type": "code",
      "execution_count": 11,
      "metadata": {
        "colab": {
          "base_uri": "https://localhost:8080/"
        },
        "id": "PPmi9fpiku3r",
        "outputId": "527773c2-7b2f-47c9-c472-732fdab68d5c"
      },
      "outputs": [
        {
          "name": "stdout",
          "output_type": "stream",
          "text": [
            "imports\n",
            "\"HOL.Complex\"\n",
            "Main\n",
            "begin\n",
            "definition softmax :: \"real list \\<Rightarrow> real list\" where\n",
            "  \"softmax z = \n",
            "    let exp_z = map exp z;\n",
            "        sum_exp_z = sum_list exp_z\n",
            "    in map (\\<lambda>zi. zi / sum_exp_z) exp_z\"\n",
            "\n",
            "end\n"
          ]
        }
      ],
      "source": [
        "from agent import ImportRetrievalAgent\n",
        "agent_imports = ImportRetrievalAgent(\n",
        "    formal_language=formal_language,\n",
        "    retriever=\"bm25\")\n",
        "import_formalization = agent_imports(\n",
        "    formalization=zero_formalization, top_n=1)\n",
        "print(import_formalization)"
      ]
    },
    {
      "cell_type": "code",
      "execution_count": 12,
      "metadata": {
        "colab": {
          "base_uri": "https://localhost:8080/"
        },
        "id": "TQL6S2YEk9zz",
        "outputId": "6cbcece4-eed0-4977-ad22-1a246dc055d5"
      },
      "outputs": [
        {
          "name": "stdout",
          "output_type": "stream",
          "text": [
            "Isabelle server use_theory ended in 2.28s.\n",
            "False\n",
            "Identified error on line: 6\n",
            "Error message: Inner syntax error\\<^here>\n",
            "Failed to parse prop\n",
            "\n",
            "\n"
          ]
        }
      ],
      "source": [
        "correctness, error_details = agent_hard(\n",
        "    formalization=import_formalization,\n",
        "    file_prefix=\"imp\")\n",
        "print(correctness)\n",
        "print(error_details)"
      ]
    },
    {
      "cell_type": "code",
      "execution_count": 13,
      "metadata": {
        "colab": {
          "base_uri": "https://localhost:8080/"
        },
        "id": "W4HBuXhqk68T",
        "outputId": "54e45523-d56f-47a4-881d-a1ccb96bdf13"
      },
      "outputs": [
        {
          "name": "stdout",
          "output_type": "stream",
          "text": [
            "theory Softmax\n",
            "imports\n",
            "  \"HOL.Real\"\n",
            "begin\n",
            "\n",
            "definition softmax :: \"real list \\<Rightarrow> real list\" where\n",
            "  \"softmax z = \n",
            "    let exp_z = map exp z;\n",
            "        sum_exp_z = sum_list exp_z\n",
            "    in map (\\<lambda>zi. zi / sum_exp_z) exp_z\"\n",
            "\n",
            "end\n",
            "\n"
          ]
        }
      ],
      "source": [
        "from agent import FormalRefinementAgent\n",
        "agent_formal = FormalRefinementAgent(\n",
        "    llm=gpt_4o,\n",
        "    formal_language=formal_language,\n",
        "    category=\"none\")\n",
        "detailed_refinement, response = agent_formal(\n",
        "    informal_statement=informal,\n",
        "    refinement_mode=\"detailed\",\n",
        "    formalization_file=\"test_results/imp.thy\",\n",
        "    correctness=correctness,\n",
        "    error_details=error_details)\n",
        "print(detailed_refinement)"
      ]
    },
    {
      "cell_type": "code",
      "execution_count": 14,
      "metadata": {
        "id": "NonFeYj3kaWk"
      },
      "outputs": [],
      "source": [
        "aspect_description='whether the formalized code involves all mathematical concepts in the natural language statement.'"
      ]
    },
    {
      "cell_type": "code",
      "execution_count": 15,
      "metadata": {
        "id": "TYOi8RvKlaWE"
      },
      "outputs": [],
      "source": [
        "from agent import SoftCritiqueAgent\n",
        "\n",
        "agent_soft = SoftCritiqueAgent(\n",
        "    llm=gpt_4o,\n",
        "    name='soft critique',\n",
        "    formal_language=formal_language,\n",
        "    aspect_description=aspect_description)"
      ]
    },
    {
      "cell_type": "code",
      "execution_count": 16,
      "metadata": {
        "colab": {
          "base_uri": "https://localhost:8080/"
        },
        "id": "7KW3hnHIldcD",
        "outputId": "d3b48984-47d2-43e8-ceff-da055bdc3198"
      },
      "outputs": [
        {
          "name": "stdout",
          "output_type": "stream",
          "text": [
            "Judgement: False\n",
            "Explanation: The formalization provided in Isabelle/HOL does not fully capture all the mathematical concepts in the natural language statement. The natural language statement defines the softmax function \\(\\sigma\\colon \\mathbb{R}^K \\to (0, 1)^K\\), which means it maps a vector from \\(\\mathbb{R}^K\\) to a vector in \\((0, 1)^K\\). The formal code, however, defines the softmax function to take a \"real list\" and return a \"real list\". While this is a reasonable representation of vectors in Isabelle/HOL, the code does not explicitly ensure that the output is within the interval \\((0, 1)\\) as required by the definition. Additionally, the code does not explicitly handle the condition \\(K \\ge 1\\), which is an important part of the definition. Therefore, the formalization does not fully involve all the mathematical concepts described in the natural language statement.\n",
            "\n"
          ]
        }
      ],
      "source": [
        "aspect_evaluation, _ = agent_soft(\n",
        "    informal_statement=informal,\n",
        "    formalization=import_formalization)\n",
        "print(aspect_evaluation)"
      ]
    },
    {
      "cell_type": "code",
      "execution_count": 17,
      "metadata": {
        "colab": {
          "base_uri": "https://localhost:8080/"
        },
        "id": "tbhstZd7laWE",
        "outputId": "79d9c079-d41f-4f67-8db0-d5a4ea67f1f5"
      },
      "outputs": [
        {
          "name": "stdout",
          "output_type": "stream",
          "text": [
            "imports\n",
            "  \"HOL.Real\"\n",
            "begin\n",
            "\n",
            "definition softmax :: \"real list \\<Rightarrow> real list\" where\n",
            "  \"softmax z = \n",
            "    (if length z \\<ge> 1 then\n",
            "      let exp_z = map exp z;\n",
            "          sum_exp_z = sum_list exp_z\n",
            "      in map (\\<lambda>zi. zi / sum_exp_z) exp_z\n",
            "    else [])\"\n",
            "\n",
            "lemma softmax_output_in_01: \n",
            "  assumes \"length z \\<ge> 1\"\n",
            "  shows \"\\<forall>zi \\<in> set (softmax z). 0 < zi \\<and> zi < 1\"\n",
            "proof -\n",
            "  let ?exp_z = \"map exp z\"\n",
            "  let ?sum_exp_z = \"sum_list ?exp_z\"\n",
            "  have \"?sum_exp_z > 0\" using assms by (simp add: sum_list_pos)\n",
            "  then show ?thesis\n",
            "    using assms by (auto simp: softmax_def Let_def)\n",
            "qed\n",
            "\n",
            "end\n",
            "\n"
          ]
        }
      ],
      "source": [
        "from agent import InformalRefinementAgent\n",
        "\n",
        "agent_informal = InformalRefinementAgent(\n",
        "    llm=gpt_4o,\n",
        "    formal_language=formal_language)\n",
        "informal_refinement, _ = agent_informal(\n",
        "    informal_statement=informal,\n",
        "    formalization=import_formalization,\n",
        "    aspect_description=aspect_description,\n",
        "    aspect_evaluation=aspect_evaluation)\n",
        "print(informal_refinement)"
      ]
    },
    {
      "cell_type": "code",
      "execution_count": 18,
      "metadata": {
        "colab": {
          "base_uri": "https://localhost:8080/"
        },
        "id": "1pOhX0HB1jxm",
        "outputId": "63837c8f-084c-4819-eab2-4558ca3ca503"
      },
      "outputs": [
        {
          "name": "stdout",
          "output_type": "stream",
          "text": [
            "Isabelle server 127.0.0.1:42317 shutdown.\n"
          ]
        }
      ],
      "source": [
        "agent_hard.theorem_prover.terminate()"
      ]
    }
  ],
  "metadata": {
    "colab": {
      "provenance": []
    },
    "kernelspec": {
      "display_name": "Python 3",
      "name": "python3"
    },
    "language_info": {
      "name": "python"
    }
  },
  "nbformat": 4,
  "nbformat_minor": 0
}
