{
  "nbformat": 4,
  "nbformat_minor": 0,
  "metadata": {
    "colab": {
      "provenance": []
    },
    "kernelspec": {
      "name": "python3",
      "display_name": "Python 3"
    },
    "language_info": {
      "name": "python"
    }
  },
  "cells": [
    {
      "cell_type": "code",
      "source": [
        "!pip install rank_bm25"
      ],
      "metadata": {
        "colab": {
          "base_uri": "https://localhost:8080/"
        },
        "id": "KRFOWJFHrzki",
        "outputId": "646c847d-5a1e-429f-c0a7-13a3511bd119"
      },
      "execution_count": 1,
      "outputs": [
        {
          "output_type": "stream",
          "name": "stdout",
          "text": [
            "Requirement already satisfied: rank_bm25 in /usr/local/lib/python3.11/dist-packages (0.2.2)\n",
            "Requirement already satisfied: numpy in /usr/local/lib/python3.11/dist-packages (from rank_bm25) (2.0.2)\n"
          ]
        }
      ]
    },
    {
      "cell_type": "code",
      "source": [
        "from google.colab import drive\n",
        "drive.mount('/content/drive')"
      ],
      "metadata": {
        "colab": {
          "base_uri": "https://localhost:8080/"
        },
        "id": "-7yrh5N2bcM2",
        "outputId": "8c8076b4-0cb4-4815-f8da-c793d121bbef"
      },
      "execution_count": 2,
      "outputs": [
        {
          "output_type": "stream",
          "name": "stdout",
          "text": [
            "Drive already mounted at /content/drive; to attempt to forcibly remount, call drive.mount(\"/content/drive\", force_remount=True).\n"
          ]
        }
      ]
    },
    {
      "cell_type": "code",
      "source": [
        "!tar -xzf /content/drive/MyDrive/Isabelle2024_linux.tar.gz -C /content/\n",
        "print('Extraction finished.')"
      ],
      "metadata": {
        "id": "xmqkaeT0eS64",
        "colab": {
          "base_uri": "https://localhost:8080/"
        },
        "outputId": "236ff376-cb51-47ef-8368-f259c9672650"
      },
      "execution_count": 3,
      "outputs": [
        {
          "output_type": "stream",
          "name": "stdout",
          "text": [
            "Extraction finished.\n"
          ]
        }
      ]
    },
    {
      "cell_type": "code",
      "source": [
        "import os\n",
        "os.environ['ISABELLE_DIRPATH'] = os.path.abspath('/content/Isabelle2024')\n",
        "\n",
        "import nest_asyncio\n",
        "nest_asyncio.apply()"
      ],
      "metadata": {
        "id": "0BZlfvzobyV6"
      },
      "execution_count": 4,
      "outputs": []
    },
    {
      "cell_type": "code",
      "source": [
        "!git clone https://github.com/lanzhang128/multi_agent_autoformalization.git\n",
        "%cd multi_agent_autoformalization\n",
        "!mkdir test_results"
      ],
      "metadata": {
        "colab": {
          "base_uri": "https://localhost:8080/"
        },
        "id": "sBTRqGWbdKoY",
        "outputId": "97eb00e8-61ce-485a-a630-3e9d7cce320d"
      },
      "execution_count": 5,
      "outputs": [
        {
          "output_type": "stream",
          "name": "stdout",
          "text": [
            "fatal: destination path 'multi_agent_autoformalization' already exists and is not an empty directory.\n",
            "/content/multi_agent_autoformalization\n",
            "mkdir: cannot create directory ‘test_results’: File exists\n"
          ]
        }
      ]
    },
    {
      "cell_type": "markdown",
      "source": [
        "Definition of Softmax Function"
      ],
      "metadata": {
        "id": "rqaL7-QGFh98"
      }
    },
    {
      "cell_type": "code",
      "source": [
        "informal = (\n",
        "    \"Definition of Softmax Function: Formally, the standard (unit) softmax function \"\n",
        "    \"\\\\(\\\\sigma\\\\colon \\\\mathbb{R}^K \\\\to (0, 1)^K\\\\), where \\\\(K \\\\ge 1\\\\), takes a vector \"\n",
        "    \"\\\\(\\\\mathbf{z} = (z_1, \\\\dotsc, z_K) \\\\in \\\\mathbb{R}^K\\\\) and computes each component of vector \"\n",
        "    \"\\\\(\\\\sigma(\\\\mathbf{z}) \\\\in (0, 1)^K\\\\) with \\\\(\\\\sigma(\\\\mathbf{z})_i = \\\\frac{e^{z_i}}{\\\\sum_{j=1}^K e^{z_j}}\\\\,.\\\\)\"\n",
        ")"
      ],
      "metadata": {
        "id": "1KzMmLOTaipf"
      },
      "execution_count": 6,
      "outputs": []
    },
    {
      "cell_type": "markdown",
      "source": [
        "Set target language to Isabelle/HOL."
      ],
      "metadata": {
        "id": "t2u90onKFmX1"
      }
    },
    {
      "cell_type": "code",
      "source": [
        "formal_language = 'Isabelle/HOL'"
      ],
      "metadata": {
        "id": "BXwzzg5mFhQs"
      },
      "execution_count": 7,
      "outputs": []
    },
    {
      "cell_type": "markdown",
      "source": [
        "First instantiate an OpenAI model using GPT-4o as the backend LLM for agents."
      ],
      "metadata": {
        "id": "9XOi59adFG5m"
      }
    },
    {
      "cell_type": "code",
      "source": [
        "from llm import OpenAILLM\n",
        "\n",
        "gpt = OpenAILLM(\n",
        "    api_key='...',\n",
        "    model='gpt-4o')"
      ],
      "metadata": {
        "id": "x1lxJkGqd0QP"
      },
      "execution_count": 8,
      "outputs": []
    },
    {
      "cell_type": "markdown",
      "source": [
        "Instantiate an autoformalization agent and perform zero-shot autoformalization."
      ],
      "metadata": {
        "id": "5Q9zp8CNFV3e"
      }
    },
    {
      "cell_type": "code",
      "source": [
        "from agent import AutoformalizationAgent\n",
        "\n",
        "agent_auto = AutoformalizationAgent(\n",
        "    llm=gpt,\n",
        "    formal_language=formal_language)\n",
        "zero_formalization, _ = agent_auto(\n",
        "    informal_statement=informal)\n",
        "print(zero_formalization)"
      ],
      "metadata": {
        "id": "iSjWbTwHhkZs",
        "colab": {
          "base_uri": "https://localhost:8080/"
        },
        "outputId": "19a45ded-e786-4cbf-d59e-6684aa6c6c4c"
      },
      "execution_count": 9,
      "outputs": [
        {
          "output_type": "stream",
          "name": "stdout",
          "text": [
            "definition softmax :: \"real list ⇒ real list\" where\n",
            "  \"softmax z = \n",
            "    let exp_z = map exp z;\n",
            "        sum_exp_z = sum_list exp_z\n",
            "    in map (λzi. exp zi / sum_exp_z) z\"\n",
            "\n"
          ]
        }
      ]
    },
    {
      "cell_type": "markdown",
      "source": [
        "Instantiate a hard critique agent to check the syntactic correctness of the previous formalization."
      ],
      "metadata": {
        "id": "S6iat8VbGS-M"
      }
    },
    {
      "cell_type": "code",
      "source": [
        "from agent import HardCritiqueAgent\n",
        "agent_hard = HardCritiqueAgent(\n",
        "    formal_language=formal_language,\n",
        "    file_dir=\"./test_results\")\n",
        "correctness, error_details = agent_hard(\n",
        "    formalization=zero_formalization,\n",
        "    file_prefix=\"zero\")\n",
        "print(correctness)\n",
        "print(error_details)"
      ],
      "metadata": {
        "colab": {
          "base_uri": "https://localhost:8080/"
        },
        "id": "W6Ei-KiRkoW7",
        "outputId": "931eb4f0-5bb2-4e95-cf90-ec640008ca02"
      },
      "execution_count": 10,
      "outputs": [
        {
          "output_type": "stream",
          "name": "stdout",
          "text": [
            "logging file is at: ./test_results/isabelle.log\n",
            "Isabelle server started with info: server \"test\" = 127.0.0.1:40879 (password \"8e4c3b73-63cc-4a6f-9f63-6b90486f91a3\")\n",
            " in 2.31s.\n",
            "Isabelle server session 2d87384e-615f-4e0f-9d9b-1ebe4d38c0e9 started in 13.19s.\n",
            "Isabelle server use_theory ended in 2.54s.\n",
            "False\n",
            "Identified error on line: 4\n",
            "Error message: Undefined type name: \"real\"\\<^here>\n",
            "Failed to parse type\n",
            "\n",
            "\n"
          ]
        }
      ]
    },
    {
      "cell_type": "markdown",
      "source": [
        "Instantiate a tool agent for import retrieval."
      ],
      "metadata": {
        "id": "s183YAcEGcR6"
      }
    },
    {
      "cell_type": "code",
      "source": [
        "from agent import ImportRetrievalAgent\n",
        "agent_imports = ImportRetrievalAgent(\n",
        "    formal_language=formal_language,\n",
        "    retriever=\"bm25\")\n",
        "import_formalization = agent_imports(\n",
        "    formalization=zero_formalization, top_n=1)\n",
        "print(import_formalization)"
      ],
      "metadata": {
        "colab": {
          "base_uri": "https://localhost:8080/"
        },
        "id": "PPmi9fpiku3r",
        "outputId": "70aa28eb-ca86-4ced-e22e-275053d099df"
      },
      "execution_count": 11,
      "outputs": [
        {
          "output_type": "stream",
          "name": "stdout",
          "text": [
            "imports\n",
            "Main\n",
            "\"HOL.Complex\"\n",
            "begin\n",
            "definition softmax :: \"real list ⇒ real list\" where\n",
            "  \"softmax z = \n",
            "    let exp_z = map exp z;\n",
            "        sum_exp_z = sum_list exp_z\n",
            "    in map (λzi. exp zi / sum_exp_z) z\"\n",
            "\n",
            "end\n"
          ]
        }
      ]
    },
    {
      "cell_type": "markdown",
      "source": [
        "Test the formalization again."
      ],
      "metadata": {
        "id": "GaQDy-svGhNy"
      }
    },
    {
      "cell_type": "code",
      "source": [
        "correctness, error_details = agent_hard(\n",
        "    formalization=import_formalization,\n",
        "    file_prefix=\"imp\")\n",
        "print(correctness)\n",
        "print(error_details)"
      ],
      "metadata": {
        "id": "TQL6S2YEk9zz",
        "colab": {
          "base_uri": "https://localhost:8080/"
        },
        "outputId": "98af07ad-f532-4b06-ce72-6bf9678569b0"
      },
      "execution_count": 12,
      "outputs": [
        {
          "output_type": "stream",
          "name": "stdout",
          "text": [
            "Isabelle server use_theory ended in 2.27s.\n",
            "False\n",
            "Identified error on line: 6\n",
            "Error message: Inner syntax error\\<^here>\n",
            "Failed to parse prop\n",
            "\n",
            "\n"
          ]
        }
      ]
    },
    {
      "cell_type": "markdown",
      "source": [
        "Instantiate a formal refinement agent to try to fix the errors."
      ],
      "metadata": {
        "id": "Zl6QEJxUG1AR"
      }
    },
    {
      "cell_type": "code",
      "source": [
        "from agent import FormalRefinementAgent\n",
        "agent_formal = FormalRefinementAgent(\n",
        "    llm=gpt,\n",
        "    formal_language=formal_language,\n",
        "    category=\"none\")\n",
        "detailed_refinement, response = agent_formal(\n",
        "    informal_statement=informal,\n",
        "    refinement_mode=\"detailed\",\n",
        "    formalization=import_formalization,\n",
        "    correctness=correctness,\n",
        "    error_details=error_details)\n",
        "print(detailed_refinement)"
      ],
      "metadata": {
        "id": "W4HBuXhqk68T",
        "colab": {
          "base_uri": "https://localhost:8080/"
        },
        "outputId": "fd5bf338-7c8f-4a6c-c364-972b186cffc7"
      },
      "execution_count": 13,
      "outputs": [
        {
          "output_type": "stream",
          "name": "stdout",
          "text": [
            "theory Softmax\n",
            "  imports Main\n",
            "begin\n",
            "\n",
            "definition softmax :: \"real list ⇒ real list\" where\n",
            "  \"softmax z = \n",
            "    let exp_z = map exp z;\n",
            "        sum_exp_z = listsum exp_z\n",
            "    in map (λzi. exp zi / sum_exp_z) z\"\n",
            "\n",
            "end\n",
            "\n"
          ]
        }
      ]
    },
    {
      "cell_type": "markdown",
      "source": [
        "Alternativel instantiate a soft critique agent to focus on one aspect."
      ],
      "metadata": {
        "id": "WmVWZWF3HMEy"
      }
    },
    {
      "cell_type": "code",
      "source": [
        "aspect_description='whether the formalized code involves all mathematical concepts in the natural language statement.'"
      ],
      "metadata": {
        "id": "NonFeYj3kaWk"
      },
      "execution_count": 14,
      "outputs": []
    },
    {
      "cell_type": "code",
      "source": [
        "from agent import SoftCritiqueAgent\n",
        "\n",
        "agent_soft = SoftCritiqueAgent(\n",
        "    llm=gpt,\n",
        "    formal_language=formal_language,\n",
        "    aspect_description=aspect_description)\n",
        "aspect_evaluation, _ = agent_soft(\n",
        "    informal_statement=informal,\n",
        "    formalization=import_formalization)\n",
        "print(aspect_evaluation)"
      ],
      "metadata": {
        "id": "TYOi8RvKlaWE",
        "colab": {
          "base_uri": "https://localhost:8080/"
        },
        "outputId": "e5337c7b-398e-40ba-9fd5-9ee4750c9ed7"
      },
      "execution_count": 15,
      "outputs": [
        {
          "output_type": "stream",
          "name": "stdout",
          "text": [
            "Explanation: The natural language statement describes the softmax function, which maps a vector from \\(\\mathbb{R}^K\\) to \\((0, 1)^K\\) using the formula \\(\\sigma(\\mathbf{z})_i = \\frac{e^{z_i}}{\\sum_{j=1}^K e^{z_j}}\\). The formal code defines a function `softmax` that takes a list of real numbers and returns a list of real numbers. It uses the `map` function to apply the exponential function to each element of the list, calculates the sum of these exponentials, and then maps each element to its softmax value using the given formula. The code correctly captures the essential components of the softmax function: it computes the exponential of each element, sums these exponentials, and divides each exponential by the sum to produce the output list. The code also correctly handles the input and output types, mapping from a list of real numbers to another list of real numbers, which corresponds to the vector transformation described in the natural language statement. Therefore, the formalized code involves all mathematical concepts in the natural language statement.\n",
            "\n",
            "Judgement: True\n",
            "\n"
          ]
        }
      ]
    },
    {
      "cell_type": "markdown",
      "source": [
        "Instantiate an informal refinement agent to refine the formal code based on the evaluation of the relevant aspect."
      ],
      "metadata": {
        "id": "p_BenGkSHdOJ"
      }
    },
    {
      "cell_type": "code",
      "source": [
        "from agent import InformalRefinementAgent\n",
        "\n",
        "agent_informal = InformalRefinementAgent(\n",
        "    llm=gpt,\n",
        "    formal_language=formal_language)\n",
        "informal_refinement, _ = agent_informal(\n",
        "    informal_statement=informal,\n",
        "    formalization=import_formalization,\n",
        "    aspect_description=aspect_description,\n",
        "    aspect_evaluation=aspect_evaluation)\n",
        "print(informal_refinement)"
      ],
      "metadata": {
        "id": "tbhstZd7laWE",
        "colab": {
          "base_uri": "https://localhost:8080/"
        },
        "outputId": "aca5834b-cc9b-41f5-8990-16f4cb8f20e3"
      },
      "execution_count": 16,
      "outputs": [
        {
          "output_type": "stream",
          "name": "stdout",
          "text": [
            "theory Softmax\n",
            "  imports\n",
            "    Main\n",
            "    \"HOL.Complex\"\n",
            "begin\n",
            "\n",
            "definition softmax :: \"real list ⇒ real list\" where\n",
            "  \"softmax z = \n",
            "    let exp_z = map exp z;\n",
            "        sum_exp_z = sum_list exp_z\n",
            "    in map (λzi. exp zi / sum_exp_z) z\"\n",
            "\n",
            "end\n",
            "\n"
          ]
        }
      ]
    },
    {
      "cell_type": "code",
      "source": [
        "agent_hard.theorem_prover.terminate()"
      ],
      "metadata": {
        "colab": {
          "base_uri": "https://localhost:8080/"
        },
        "id": "1pOhX0HB1jxm",
        "outputId": "c9d7ab61-1dcc-4709-8137-03c8b796f551"
      },
      "execution_count": 17,
      "outputs": [
        {
          "output_type": "stream",
          "name": "stdout",
          "text": [
            "Isabelle server 127.0.0.1:40879 shutdown.\n"
          ]
        }
      ]
    }
  ]
}